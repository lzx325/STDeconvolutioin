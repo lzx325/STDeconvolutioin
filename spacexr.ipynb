{
 "cells": [
  {
   "cell_type": "code",
   "execution_count": 1,
   "metadata": {},
   "outputs": [],
   "source": [
    "library(spacexr)\n",
    "library(Matrix)"
   ]
  },
  {
   "cell_type": "code",
   "execution_count": 69,
   "metadata": {},
   "outputs": [],
   "source": [
    "print_shape=function(data){\n",
    "    for(nm in names(data)){\n",
    "        v=data[[nm]]\n",
    "        if(is.factor(v)||is.vector(v)){\n",
    "            cat(nm,length(v),\"\\n\")\n",
    "        } else if(is.matrix(v)||is.data.frame(v)||class(v)==\"dgCMatrix\"){\n",
    "            cat(nm,dim(data[[nm]]),\"\\n\")\n",
    "        }\n",
    "        \n",
    "    }\n",
    "    stopifnot(setequal(colnames(data$st_counts),rownames(data$st_locations)))\n",
    "    stopifnot(setequal(colnames(data$sc_counts),names(data$sc_labels)))\n",
    "}"
   ]
  },
  {
   "cell_type": "code",
   "execution_count": 70,
   "metadata": {},
   "outputs": [
    {
     "name": "stdout",
     "output_type": "stream",
     "text": [
      "st_counts 135 3067 \n",
      "st_locations 3067 2 \n",
      "sc_counts 19972 1691 \n",
      "sc_labels 1691 \n"
     ]
    }
   ],
   "source": [
    "load_MERFISH=function(res){\n",
    "    st_obj_fp=sprintf(\"MERFISH/simMERFISH_%d.RDS\",res)\n",
    "    sc_counts_fp=\"MERFISH/raw_somatosensory_sc_exp.txt\"\n",
    "    sc_labels_fp=\"MERFISH/somatosensory_sc_labels.txt\"\n",
    "    expr=readRDS(st_obj_fp)\n",
    "    st_counts=sparseMatrix(\n",
    "        i=expr$sim$i,\n",
    "        j=expr$sim$j,\n",
    "        x=expr$sim$v,\n",
    "        dims=c(expr$sim$nrow,expr$sim$ncol),\n",
    "        dimnames=expr$sim$dimnames\n",
    "    )\n",
    "    st_counts=t(st_counts)\n",
    "    st_locations=expr$st_location\n",
    "    colnames(st_locations)=c(\"x\",\"y\")\n",
    "    \n",
    "    sc_counts=read.csv(sc_counts_fp,sep=\"\\t\",row.names=1)\n",
    "    sc_labels=read.csv(sc_labels_fp,header=FALSE)$V1\n",
    "    \n",
    "    names(sc_labels)=colnames(sc_counts)\n",
    "    \n",
    "    ret_list=list(\n",
    "        st_counts=st_counts,\n",
    "        st_locations=st_locations,\n",
    "        sc_counts=sc_counts,\n",
    "        sc_labels=sc_labels\n",
    "    )\n",
    "    print_shape(ret_list)\n",
    "    return(ret_list)\n",
    "}\n",
    "\n",
    "data=load_MERFISH(100)"
   ]
  },
  {
   "cell_type": "code",
   "execution_count": 71,
   "metadata": {},
   "outputs": [
    {
     "name": "stdout",
     "output_type": "stream",
     "text": [
      "st_counts 3000 71 \n",
      "st_locations 71 2 \n",
      "sc_counts 19972 1691 \n",
      "sc_labels 1691 \n"
     ]
    }
   ],
   "source": [
    "load_seqFISH=function(n_genes){\n",
    "    st_counts_fp=sprintf(\"seqFISH+/Out_gene_expressions_%dgenes.csv\",n_genes)\n",
    "    st_locations_fp=\"seqFISH+/Out_rect_locations.csv\"\n",
    "    sc_counts_fp=\"seqFISH+/raw_somatosensory_sc_exp.txt\"\n",
    "    sc_labels_fp=\"seqFISH+/somatosensory_sc_labels.txt\"\n",
    "    \n",
    "    st_counts=read.csv(st_counts_fp,sep=\",\",row.names=1)\n",
    "    st_counts=t(st_counts)\n",
    "    st_locations=read.csv(st_locations_fp,sep=\",\",row.name=1)\n",
    "    st_locations=st_locations[,c(\"X\",\"Y\")]\n",
    "    \n",
    "    sc_counts=read.csv(sc_counts_fp,sep=\"\\t\",row.names=1)\n",
    "    sc_labels=read.csv(sc_labels_fp,header=FALSE)$V1\n",
    "    names(sc_labels)=colnames(sc_counts)\n",
    "    \n",
    "    ret_list=list(\n",
    "            st_counts=st_counts,\n",
    "            st_locations=st_locations,\n",
    "            sc_counts=sc_counts,\n",
    "            sc_labels=sc_labels\n",
    "    )\n",
    "    print_shape(ret_list)\n",
    "    return(ret_list)\n",
    "}\n",
    "\n",
    "data=load_seqFISH(3000)\n"
   ]
  },
  {
   "cell_type": "code",
   "execution_count": 83,
   "metadata": {},
   "outputs": [
    {
     "name": "stdout",
     "output_type": "stream",
     "text": [
      "st_counts 23265 53208 \n",
      "st_locations 53208 2 \n",
      "sc_counts 27953 15095 \n",
      "sc_labels 15095 \n"
     ]
    }
   ],
   "source": [
    "load_SlideseqV2=function(n_clusters){\n",
    "    st_counts_fp=\"SlideseqV2/Hippocampus_MappedDGEForR.csv\"\n",
    "    st_locations_fp=\"SlideseqV2/Hippocampus_BeadLocationsForR.csv\"\n",
    "    sc_counts_fp=\"SlideseqV2/sc_count.csv\"\n",
    "    sc_labels_fp=sprintf(\"SlideseqV2/sc_%d_celltype.csv\",n_clusters)\n",
    "    \n",
    "    st_counts=read.csv(st_counts_fp,sep=\",\",row.names=1)\n",
    "    st_locations=read.csv(st_locations_fp,sep=\",\",row.names=1)\n",
    "    \n",
    "    sc_counts=read.csv(sc_counts_fp,sep=\",\",row.name=1)\n",
    "    sc_labels_df=read.csv(sc_labels_fp,row.names=1)\n",
    "    sc_labels=sc_labels_df$new_sc_celltype\n",
    "    names(sc_labels)=rownames(sc_labels_df)\n",
    "    \n",
    "    ret_list=list(\n",
    "            st_counts=st_counts,\n",
    "            st_locations=st_locations,\n",
    "            sc_counts=sc_counts,\n",
    "            sc_labels=sc_labels\n",
    "    )\n",
    "    print_shape(ret_list)\n",
    "    return(ret_list)\n",
    "}\n",
    "\n",
    "data=load_SlideseqV2(11)"
   ]
  },
  {
   "cell_type": "code",
   "execution_count": 86,
   "metadata": {},
   "outputs": [
    {
     "name": "stdout",
     "output_type": "stream",
     "text": [
      "st_counts 19738 316 \n",
      "st_locations 316 2 \n",
      "sc_counts 19736 1926 \n",
      "sc_labels 1926 \n"
     ]
    }
   ],
   "source": [
    "load_stereo_seq=function(){\n",
    "    st_obj_fp=\"stereo_seq/stereoseq_ob.RDS\"\n",
    "    sc_obj_fp=\"stereo_seq/scRNA_seq_ob.RDS\"\n",
    "    st_obj=readRDS(st_obj_fp)\n",
    "    st_counts=t(st_obj$st_count)\n",
    "    st_locations=st_obj$st_location\n",
    "    \n",
    "    sc_obj=readRDS(sc_obj_fp)\n",
    "    sc_counts=sc_obj$sc_count\n",
    "    sc_labels=sc_obj$cell_type_anno$cell_type_anno\n",
    "    names(sc_labels)=rownames(sc_obj$cell_type_anno)\n",
    "    \n",
    "    ret_list=list(\n",
    "            st_counts=st_counts,\n",
    "            st_locations=st_locations,\n",
    "            sc_counts=sc_counts,\n",
    "            sc_labels=sc_labels\n",
    "    )\n",
    "    print_shape(ret_list)\n",
    "    return(ret_list)\n",
    "    \n",
    "}\n",
    "\n",
    "load_10Xvisium=function(){\n",
    "    st_counts_fp=\"10Xvisium/st_count.csv\"\n",
    "    st_locations_fp=\"10Xvisium/st_location.csv\"\n",
    "    sc_counts_fp=\"10Xvisium/sc_mousebrain.csv\"\n",
    "    sc_labels_fp=\"10Xvisium/sc_celltype.csv\"\n",
    "    \n",
    "    st_counts=read.csv(st_counts_fp,sep=\",\",row.names=1,check.names = FALSE)\n",
    "    st_locations=read.csv(st_locations_fp,sep=\",\",row.names=1)\n",
    "    \n",
    "    sc_counts=read.csv(sc_counts_fp,sep=\",\",row.names=1)\n",
    "    sc_counts=t(sc_counts)\n",
    "    sc_labels_df=read.csv(sc_labels_fp,sep=\",\",row.names=1)\n",
    "    sc_labels=sc_labels_df$annotation_1\n",
    "    names(sc_labels)=rownames(sc_labels_df)\n",
    "    \n",
    "    ret_list=list(\n",
    "            st_counts=st_counts,\n",
    "            st_locations=st_locations,\n",
    "            sc_counts=sc_counts,\n",
    "            sc_labels=sc_labels\n",
    "    )\n",
    "    print_shape(ret_list)\n",
    "    return(ret_list)\n",
    "}\n",
    "\n",
    "load_ST_PDAC=function(){\n",
    "    data=readRDS(\"ST_PDAC/PDAC_GSM4100721.rds\")\n",
    "    sc_counts=data$sc_count\n",
    "    sc_labels=data$cell_type\n",
    "    names(sc_labels)=colnames(sc_counts)\n",
    "    \n",
    "    st_counts=data$st_count\n",
    "    st_locations=data$st_location\n",
    "    ret_list=list(\n",
    "            st_counts=st_counts,\n",
    "            st_locations=st_locations,\n",
    "            sc_counts=sc_counts,\n",
    "            sc_labels=sc_labels\n",
    "    )\n",
    "    print_shape(ret_list)\n",
    "    return(ret_list)\n",
    "    \n",
    "}\n",
    "data=load_ST_PDAC()"
   ]
  },
  {
   "cell_type": "code",
   "execution_count": 65,
   "metadata": {},
   "outputs": [],
   "source": [
    "sc_reference=Reference(\n",
    "    counts=data$sc_counts,\n",
    "    cell_types=data$sc_labels\n",
    ")"
   ]
  },
  {
   "cell_type": "code",
   "execution_count": 67,
   "metadata": {},
   "outputs": [],
   "source": [
    "st_data=SpatialRNA(\n",
    "    counts=data$st_counts,\n",
    "    coords=data$st_location,\n",
    "    require_int=FALSE\n",
    ")"
   ]
  },
  {
   "cell_type": "code",
   "execution_count": 68,
   "metadata": {},
   "outputs": [
    {
     "name": "stderr",
     "output_type": "stream",
     "text": [
      "Begin: process_cell_type_info\n",
      "process_cell_type_info: number of cells in reference: 1691\n",
      "process_cell_type_info: number of genes in reference: 19972\n"
     ]
    },
    {
     "name": "stdout",
     "output_type": "stream",
     "text": [
      "\n",
      "astrocytes endo_mural    eNeuron    iNeuron  microglia       Olig \n",
      "       143        202        399        164         84        699 \n"
     ]
    },
    {
     "name": "stderr",
     "output_type": "stream",
     "text": [
      "End: process_cell_type_info\n",
      "create.RCTD: getting regression differentially expressed genes: \n",
      "get_de_genes: astrocytes found DE genes: 31\n",
      "get_de_genes: endo_mural found DE genes: 51\n",
      "get_de_genes: eNeuron found DE genes: 20\n",
      "get_de_genes: iNeuron found DE genes: 35\n",
      "get_de_genes: microglia found DE genes: 26\n",
      "get_de_genes: Olig found DE genes: 32\n",
      "get_de_genes: total DE genes: 181\n",
      "create.RCTD: getting platform effect normalization differentially expressed genes: \n",
      "get_de_genes: astrocytes found DE genes: 65\n",
      "get_de_genes: endo_mural found DE genes: 103\n",
      "get_de_genes: eNeuron found DE genes: 77\n",
      "get_de_genes: iNeuron found DE genes: 98\n",
      "get_de_genes: microglia found DE genes: 58\n",
      "get_de_genes: Olig found DE genes: 62\n",
      "get_de_genes: total DE genes: 390\n",
      "fitBulk: decomposing bulk\n",
      "chooseSigma: using initial Q_mat with sigma =  1\n",
      "Likelihood value: 32481.3759154258\n",
      "Sigma value:  0.84\n",
      "Likelihood value: 31485.4763683733\n",
      "Sigma value:  0.69\n",
      "Likelihood value: 30564.7712313731\n",
      "Sigma value:  0.61\n",
      "Likelihood value: 30100.5281421265\n",
      "Sigma value:  0.53\n",
      "Likelihood value: 29675.2369634023\n",
      "Sigma value:  0.45\n",
      "Likelihood value: 29312.8146854913\n",
      "Sigma value:  0.37\n",
      "Likelihood value: 29046.1581343928\n",
      "Sigma value:  0.29\n",
      "Likelihood value: 28917.3642629817\n",
      "Sigma value:  0.27\n"
     ]
    }
   ],
   "source": [
    "myRCTD <- create.RCTD(st_data, sc_reference, max_cores = 50)\n",
    "myRCTD <- run.RCTD(myRCTD, doublet_mode = 'doublet')"
   ]
  }
 ],
 "metadata": {
  "kernelspec": {
   "display_name": "R [conda env:ST]",
   "language": "R",
   "name": "conda-env-ST-r"
  },
  "language_info": {
   "codemirror_mode": "r",
   "file_extension": ".r",
   "mimetype": "text/x-r-source",
   "name": "R",
   "pygments_lexer": "r",
   "version": "3.6.1"
  },
  "toc": {
   "base_numbering": 1,
   "nav_menu": {},
   "number_sections": true,
   "sideBar": true,
   "skip_h1_title": false,
   "title_cell": "Table of Contents",
   "title_sidebar": "Contents",
   "toc_cell": false,
   "toc_position": {},
   "toc_section_display": true,
   "toc_window_display": false
  }
 },
 "nbformat": 4,
 "nbformat_minor": 4
}
