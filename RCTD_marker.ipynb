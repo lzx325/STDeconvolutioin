{
 "cells": [
  {
   "cell_type": "code",
   "execution_count": 7,
   "metadata": {},
   "outputs": [],
   "source": [
    "library(spacexr)\n",
    "library(Matrix)\n",
    "library(ggplot2)\n",
    "library(ggpubr)\n",
    "library(gridExtra)\n",
    "library(reshape2)\n",
    "# library(Seurat)\n"
   ]
  },
  {
   "cell_type": "code",
   "execution_count": 6,
   "metadata": {},
   "outputs": [],
   "source": [
    "spacexr_src_dir=\"/data/liz0f/STDeconvolution/spacexr\"\n",
    "source(file.path(spacexr_src_dir,'R/RCTD_helper.R'))\n",
    "source(file.path(spacexr_src_dir,'R/IRWLS.R'))\n",
    "source(file.path(spacexr_src_dir,'R/prob_model.R'))"
   ]
  },
  {
   "cell_type": "code",
   "execution_count": 9,
   "metadata": {},
   "outputs": [
    {
     "name": "stderr",
     "output_type": "stream",
     "text": [
      "Warning message in readChar(con, 5L, useBytes = TRUE):\n",
      "“cannot open compressed file '/data/liz0f/STDeconvolution/spacexr/Data/SpatialRNA/Puck_200115_08/results/final_analysis/gathered_results.RData', probable reason 'No such file or directory'”"
     ]
    },
    {
     "ename": "ERROR",
     "evalue": "Error in readChar(con, 5L, useBytes = TRUE): cannot open the connection\n",
     "output_type": "error",
     "traceback": [
      "Error in readChar(con, 5L, useBytes = TRUE): cannot open the connection\nTraceback:\n",
      "1. load(file.path(spacexr_src_dir, \"Data/SpatialRNA/Puck_200115_08/results/final_analysis/gathered_results.RData\"))",
      "2. readChar(con, 5L, useBytes = TRUE)"
     ]
    }
   ],
   "source": [
    "refdir = file.path(spacexr_src_dir,'Data/Reference/DropVizHC')\n",
    "load(file.path(spacexr_src_dir,'Data/SpatialRNA/Puck_200115_08/results/final_analysis/gathered_results.RData'))\n",
    "results_df <- results$results_df\n",
    "barcodes <- rownames(results_df)\n",
    "singlet_ind = results_df$first_type == \"Interneuron\" & results_df$spot_class == \"singlet\"\n",
    "singlet_barcodes <- barcodes[singlet_ind]\n",
    "doublet_barcodes <- c(barcodes[results_df$first_type == \"Interneuron\" & results_df$spot_class == \"doublet_certain\"], barcodes[results_df$first_type == \"Interneuron\" & results_df$spot_class == \"doublet_uncertain\"],\n",
    "                      barcodes[results_df$second_type == \"Interneuron\" & results_df$spot_class == \"doublet_certain\"])\n",
    "doub_first <- c(barcodes[results_df$first_type == \"Interneuron\" & results_df$spot_class == \"doublet_certain\"], barcodes[results_df$first_type == \"Interneuron\" & results_df$spot_class == \"doublet_uncertain\"])\n",
    "doub_second <- barcodes[results_df$second_type == \"Interneuron\" & results_df$spot_class == \"doublet_certain\"]\n",
    "second_type_list <- unlist(list(results_df[doub_first,]$second_type,results_df[doub_second,]$first_type))\n",
    "names(second_type_list) <- doublet_barcodes\n",
    "inter_barcodes <- c(singlet_barcodes, doublet_barcodes)\n",
    "puck <- readRDS(\"/Users/dcable/Documents/MIT/Research/Rafalab/Projects/spacexr/data/Share/scp_rctd_round2/puckCropped_hippocampus.rds\")\n",
    "cell_type_info <- readRDS(file.path(refdir,'info_renorm_coarse.RDS'))\n",
    "gene_list <- intersect(rownames(cell_type_info[[1]]),rownames(puck@counts))\n",
    "puck <- spacexr:::restrict_puck(puck, names(which(puck@nUMI >= 100)))\n",
    "puck <- spacexr:::restrict_counts(puck, gene_list, UMI_max = 200000)"
   ]
  }
 ],
 "metadata": {
  "kernelspec": {
   "display_name": "R [conda env:ST]",
   "language": "R",
   "name": "conda-env-ST-r"
  },
  "language_info": {
   "codemirror_mode": "r",
   "file_extension": ".r",
   "mimetype": "text/x-r-source",
   "name": "R",
   "pygments_lexer": "r",
   "version": "3.6.1"
  },
  "toc": {
   "base_numbering": 1,
   "nav_menu": {},
   "number_sections": true,
   "sideBar": true,
   "skip_h1_title": false,
   "title_cell": "Table of Contents",
   "title_sidebar": "Contents",
   "toc_cell": false,
   "toc_position": {},
   "toc_section_display": true,
   "toc_window_display": false
  }
 },
 "nbformat": 4,
 "nbformat_minor": 4
}
